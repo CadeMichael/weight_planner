{
 "cells": [
  {
   "cell_type": "code",
   "execution_count": 13,
   "metadata": {},
   "outputs": [],
   "source": [
    "import csv"
   ]
  },
  {
   "cell_type": "code",
   "execution_count": 23,
   "metadata": {},
   "outputs": [
    {
     "name": "stdout",
     "output_type": "stream",
     "text": [
      "['cade', '12']\n",
      "['luca', '34']\n"
     ]
    }
   ],
   "source": [
    "#basic file operations\n",
    "with open('users.csv', 'rt') as f:\n",
    "    data = csv.reader(f)\n",
    "    for row in data:\n",
    "        print(row)"
   ]
  },
  {
   "cell_type": "code",
   "execution_count": 24,
   "metadata": {},
   "outputs": [
    {
     "name": "stdout",
     "output_type": "stream",
     "text": [
      "cade has an account \n",
      "\n",
      "no account\n"
     ]
    }
   ],
   "source": [
    "with open('users.csv','rt') as f:\n",
    "    data = csv.reader(f)\n",
    "    for users in data:\n",
    "        if users[0] == 'cade':\n",
    "            print('cade has an account \\n')\n",
    "\n",
    "account = False\n",
    "with open('users.csv','rt') as f:\n",
    "    data = csv.reader(f)\n",
    "    for users in data:\n",
    "        if users[0] == 'john':\n",
    "            account = True\n",
    "    if account:\n",
    "        print('account found')\n",
    "    else:\n",
    "        print('no account')"
   ]
  },
  {
   "cell_type": "code",
   "execution_count": 25,
   "metadata": {},
   "outputs": [
    {
     "name": "stdout",
     "output_type": "stream",
     "text": [
      "{'cade': 'luca', '12': '34'}\n"
     ]
    }
   ],
   "source": [
    "#reading csv's as a dictionary\n",
    "reader = csv.DictReader(open('users.csv'))\n",
    "for raw in reader:\n",
    "    print(raw)"
   ]
  },
  {
   "cell_type": "code",
   "execution_count": 28,
   "metadata": {},
   "outputs": [],
   "source": [
    "#basic appending to a file\n",
    "new_user = 'dan'\n",
    "new_pswd = '678'\n",
    "accounts = open('users.csv','a', newline='\\n')\n",
    "obj = csv.writer(accounts)\n",
    "obj.writerow([new_user,new_pswd])\n",
    "accounts.close()"
   ]
  },
  {
   "cell_type": "code",
   "execution_count": 73,
   "metadata": {},
   "outputs": [],
   "source": [
    "\n",
    "def add_user(csv_file,name,pswrd):\n",
    "    accounts = open(csv_file,'a', newline='\\n')\n",
    "    obj = csv.writer(accounts)\n",
    "    obj.writerow([name,pswrd])\n",
    "    accounts.close()\n",
    "\n",
    "def exists(csv_file,name):\n",
    "    with open(csv_file,'rt') as f:\n",
    "        users = csv.reader(f)\n",
    "        for user in users:\n",
    "            if user[0] == name:\n",
    "                return user\n",
    "\n",
    "\n",
    "def verify(csv_file, name, pswrd):\n",
    "    profile = users.exists(csv_file,name)\n",
    "    if len(profile) > 0:\n",
    "        if profile[1] == pswrd:\n",
    "            return True\n",
    "    return False"
   ]
  },
  {
   "cell_type": "code",
   "execution_count": 92,
   "metadata": {},
   "outputs": [],
   "source": [
    "add_user('users.csv','james','beeboop')"
   ]
  },
  {
   "cell_type": "code",
   "execution_count": 85,
   "metadata": {},
   "outputs": [
    {
     "data": {
      "text/plain": [
       "['cade', '12']"
      ]
     },
     "execution_count": 85,
     "metadata": {},
     "output_type": "execute_result"
    }
   ],
   "source": [
    "exists('users.csv','cade')"
   ]
  },
  {
   "cell_type": "code",
   "execution_count": 84,
   "metadata": {},
   "outputs": [
    {
     "data": {
      "text/plain": [
       "['luca', '34']"
      ]
     },
     "execution_count": 84,
     "metadata": {},
     "output_type": "execute_result"
    }
   ],
   "source": [
    "exists('users.csv','luca')"
   ]
  },
  {
   "cell_type": "code",
   "execution_count": 83,
   "metadata": {},
   "outputs": [],
   "source": [
    "exists('users.csv', 'michael')"
   ]
  },
  {
   "cell_type": "code",
   "execution_count": 90,
   "metadata": {},
   "outputs": [
    {
     "data": {
      "text/plain": [
       "True"
      ]
     },
     "execution_count": 90,
     "metadata": {},
     "output_type": "execute_result"
    }
   ],
   "source": [
    "verify('users.csv','cade','12',)"
   ]
  },
  {
   "cell_type": "code",
   "execution_count": 93,
   "metadata": {},
   "outputs": [
    {
     "data": {
      "text/plain": [
       "True"
      ]
     },
     "execution_count": 93,
     "metadata": {},
     "output_type": "execute_result"
    }
   ],
   "source": [
    "verify('users.csv','brothercousin','beeboop')"
   ]
  },
  {
   "cell_type": "code",
   "execution_count": 95,
   "metadata": {},
   "outputs": [
    {
     "data": {
      "text/plain": [
       "False"
      ]
     },
     "execution_count": 95,
     "metadata": {},
     "output_type": "execute_result"
    }
   ],
   "source": [
    "verify('users.csv','','')"
   ]
  },
  {
   "cell_type": "code",
   "execution_count": null,
   "metadata": {},
   "outputs": [],
   "source": []
  }
 ],
 "metadata": {
  "kernelspec": {
   "display_name": "Python 3",
   "language": "python",
   "name": "python3"
  },
  "language_info": {
   "codemirror_mode": {
    "name": "ipython",
    "version": 3
   },
   "file_extension": ".py",
   "mimetype": "text/x-python",
   "name": "python",
   "nbconvert_exporter": "python",
   "pygments_lexer": "ipython3",
   "version": "3.8.5"
  }
 },
 "nbformat": 4,
 "nbformat_minor": 4
}
